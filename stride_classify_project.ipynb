{
  "cells": [
    {
      "cell_type": "markdown",
      "metadata": {
        "id": "view-in-github",
        "colab_type": "text"
      },
      "source": [
        "<a href=\"https://colab.research.google.com/github/minheeyun/class2025Spring/blob/main/stride_classify_project.ipynb\" target=\"_parent\"><img src=\"https://colab.research.google.com/assets/colab-badge.svg\" alt=\"Open In Colab\"/></a>"
      ]
    },
    {
      "cell_type": "markdown",
      "id": "5a0e3a4c",
      "metadata": {
        "id": "5a0e3a4c"
      },
      "source": [
        "# 자연어 기반 STRIDE 위협 분류"
      ]
    },
    {
      "cell_type": "code",
      "execution_count": null,
      "id": "4c76308f",
      "metadata": {
        "id": "4c76308f"
      },
      "outputs": [],
      "source": [
        "import pandas as pd\n",
        "import matplotlib.pyplot as plt"
      ]
    },
    {
      "cell_type": "markdown",
      "id": "1f8bc340",
      "metadata": {
        "id": "1f8bc340"
      },
      "source": [
        "## 1. STRIDE 키워드, 위험도, 연결성 테이블 설정"
      ]
    },
    {
      "cell_type": "code",
      "execution_count": null,
      "id": "1f60b67d",
      "metadata": {
        "id": "1f60b67d"
      },
      "outputs": [],
      "source": [
        "stride_keywords = {\n",
        "    \"Spoofing\": [\"위조\", \"사칭\", \"인증 우회\"],\n",
        "    \"Tampering\": [\"변조\", \"수정\", \"무결성 위반\"],\n",
        "    \"Repudiation\": [\"부인\", \"증거 삭제\"],\n",
        "    \"Information Disclosure\": [\"노출\", \"유출\", \"비밀 공개\"],\n",
        "    \"Denial of Service\": [\"차단\", \"서비스 거부\", \"지연\"],\n",
        "    \"Elevation of Privilege\": [\"권한 상승\", \"루트 획득\"]\n",
        "}\n",
        "\n",
        "stride_risk_levels = {\n",
        "    \"Spoofing\": \"Critical\",\n",
        "    \"Tampering\": \"High\",\n",
        "    \"Repudiation\": \"Medium\",\n",
        "    \"Information Disclosure\": \"High\",\n",
        "    \"Denial of Service\": \"Medium\",\n",
        "    \"Elevation of Privilege\": \"Critical\",\n",
        "    \"Unclassified\": \"Unknown\"\n",
        "}\n",
        "\n",
        "stride_connections = {\n",
        "    \"Spoofing\": [\"Tampering\", \"Elevation of Privilege\"],\n",
        "    \"Tampering\": [\"Information Disclosure\", \"Denial of Service\"],\n",
        "    \"Repudiation\": [\"Information Disclosure\"],\n",
        "    \"Information Disclosure\": [\"Elevation of Privilege\"],\n",
        "    \"Denial of Service\": [],\n",
        "    \"Elevation of Privilege\": []\n",
        "}"
      ]
    },
    {
      "cell_type": "markdown",
      "id": "53ce8f57",
      "metadata": {
        "id": "53ce8f57"
      },
      "source": [
        "## 2. STRIDE 분석 관련 함수 정의"
      ]
    },
    {
      "cell_type": "code",
      "execution_count": null,
      "id": "2711f09f",
      "metadata": {
        "id": "2711f09f"
      },
      "outputs": [],
      "source": [
        "def classify_stride_multi(uca_sentence):\n",
        "    matched_strides = []\n",
        "    tokens = uca_sentence.split()\n",
        "    token_sentence = \" \".join(tokens)\n",
        "    for stride, keywords in stride_keywords.items():\n",
        "        for keyword in keywords:\n",
        "            if keyword in token_sentence:\n",
        "                matched_strides.append(stride)\n",
        "                break\n",
        "    if matched_strides:\n",
        "        return matched_strides\n",
        "    else:\n",
        "        return [\"Unclassified\"]"
      ]
    },
    {
      "cell_type": "markdown",
      "id": "650883e0",
      "metadata": {
        "id": "650883e0"
      },
      "source": [
        "## 3. STRIDE 간 연관성 분석 함수"
      ]
    },
    {
      "cell_type": "code",
      "execution_count": null,
      "id": "db22b8a9",
      "metadata": {
        "id": "db22b8a9"
      },
      "outputs": [],
      "source": [
        "def analyze_stride_sequence(matched_strides):\n",
        "    sequence = []\n",
        "    for stride in matched_strides:\n",
        "        next_steps = stride_connections.get(stride, [])\n",
        "        for next_stride in next_steps:\n",
        "            if next_stride in matched_strides:\n",
        "                sequence.append(f\"{stride} → {next_stride}\")\n",
        "    if sequence:\n",
        "        return \", \".join(sequence)\n",
        "    else:\n",
        "        return \"None\""
      ]
    },
    {
      "cell_type": "markdown",
      "source": [
        "## 4. Confidence 계산 함수"
      ],
      "metadata": {
        "id": "KYjg_z9VXIzk"
      },
      "id": "KYjg_z9VXIzk"
    },
    {
      "cell_type": "code",
      "source": [
        "def calculate_confidence(matched_strides):\n",
        "    if \"Unclassified\" in matched_strides:\n",
        "        return \"0%\"\n",
        "    else:\n",
        "        base_score = 50\n",
        "        per_stride = 10\n",
        "        score = base_score + (len(matched_strides) - 1) * per_stride\n",
        "        return f\"{min(score, 100)}%\""
      ],
      "metadata": {
        "id": "wvtXqxT-XKu6"
      },
      "id": "wvtXqxT-XKu6",
      "execution_count": null,
      "outputs": []
    },
    {
      "cell_type": "markdown",
      "source": [
        "## 5. STRIDE 위험도 반환 함수"
      ],
      "metadata": {
        "id": "cw1ftAwjXMoT"
      },
      "id": "cw1ftAwjXMoT"
    },
    {
      "cell_type": "code",
      "source": [
        "def get_stride_risk_levels(matched_strides):\n",
        "    risks = []\n",
        "    for stride in matched_strides:\n",
        "        risk = stride_risk_levels.get(stride, \"Unknown\")\n",
        "        risks.append(f\"{stride} ({risk})\")\n",
        "    return \", \".join(risks)"
      ],
      "metadata": {
        "id": "b_rB_lEyXOl7"
      },
      "id": "b_rB_lEyXOl7",
      "execution_count": null,
      "outputs": []
    },
    {
      "cell_type": "markdown",
      "source": [
        "## 6. 분석 수행 함수"
      ],
      "metadata": {
        "id": "MDxzFnIvXU6G"
      },
      "id": "MDxzFnIvXU6G"
    },
    {
      "cell_type": "code",
      "source": [
        "def perform_stride_analysis(sentences):\n",
        "    results = []\n",
        "    for sentence in sentences:\n",
        "        strides = classify_stride_multi(sentence)\n",
        "        sequence = analyze_stride_sequence(strides)\n",
        "        confidence = calculate_confidence(strides)\n",
        "        risks = get_stride_risk_levels(strides)\n",
        "        results.append({\n",
        "            \"UCA 문장\": sentence,\n",
        "            \"추천 STRIDE 유형\": \", \".join(strides),\n",
        "            \"STRIDE 위험도\": risks,\n",
        "            \"Confidence\": confidence,\n",
        "            \"STRIDE 간 연관성\": sequence\n",
        "        })\n",
        "    return pd.DataFrame(results)"
      ],
      "metadata": {
        "id": "eVNbUAZBXYHY"
      },
      "id": "eVNbUAZBXYHY",
      "execution_count": null,
      "outputs": []
    },
    {
      "cell_type": "markdown",
      "source": [
        "## 7. 공격 시나리오 문장 분석 (테스트)"
      ],
      "metadata": {
        "id": "0qqGZarOXZ9b"
      },
      "id": "0qqGZarOXZ9b"
    },
    {
      "cell_type": "code",
      "source": [
        "local_sentences = [\n",
        "    \"운전자가 인증 절차를 우회하고 제어 명령을 변조할 수 있다.\",\n",
        "    \"공격자가 시스템 로그를 삭제하고 비밀 데이터를 유출할 수 있다.\",\n",
        "    \"공격자는 서비스 요청을 지연시키면서 권한을 상승시킬 수 있다.\",\n",
        "    \"공격자가 인증 우회 후 시스템을 변조하고 로그를 삭제한다.\",\n",
        "    \"시스템이 외부로 비밀 정보를 노출하고 서비스 요청을 차단한다.\"\n",
        "]"
      ],
      "metadata": {
        "id": "cxS_NqdzXckO"
      },
      "id": "cxS_NqdzXckO",
      "execution_count": null,
      "outputs": []
    },
    {
      "cell_type": "markdown",
      "source": [
        "## 8. STRIDE 분석 수행 결과 분석 및 출력"
      ],
      "metadata": {
        "id": "8Soo0Nk8Xej-"
      },
      "id": "8Soo0Nk8Xej-"
    },
    {
      "cell_type": "code",
      "source": [
        "df = perform_stride_analysis(local_sentences)\n",
        "display(df)"
      ],
      "metadata": {
        "colab": {
          "base_uri": "https://localhost:8080/",
          "height": 206
        },
        "id": "CrRy7ZGWXgc2",
        "outputId": "8d44f249-bebb-4aec-b1f6-d5e28993b185"
      },
      "id": "CrRy7ZGWXgc2",
      "execution_count": null,
      "outputs": [
        {
          "output_type": "display_data",
          "data": {
            "text/plain": [
              "                                UCA 문장  \\\n",
              "0    운전자가 인증 절차를 우회하고 제어 명령을 변조할 수 있다.   \n",
              "1  공격자가 시스템 로그를 삭제하고 비밀 데이터를 유출할 수 있다.   \n",
              "2   공격자는 서비스 요청을 지연시키면서 권한을 상승시킬 수 있다.   \n",
              "3     공격자가 인증 우회 후 시스템을 변조하고 로그를 삭제한다.   \n",
              "4   시스템이 외부로 비밀 정보를 노출하고 서비스 요청을 차단한다.   \n",
              "\n",
              "                                추천 STRIDE 유형  \\\n",
              "0                                  Tampering   \n",
              "1                     Information Disclosure   \n",
              "2                          Denial of Service   \n",
              "3                        Spoofing, Tampering   \n",
              "4  Information Disclosure, Denial of Service   \n",
              "\n",
              "                                          STRIDE 위험도 Confidence  \\\n",
              "0                                   Tampering (High)        50%   \n",
              "1                      Information Disclosure (High)        50%   \n",
              "2                         Denial of Service (Medium)        50%   \n",
              "3              Spoofing (Critical), Tampering (High)        60%   \n",
              "4  Information Disclosure (High), Denial of Servi...        60%   \n",
              "\n",
              "           STRIDE 간 연관성  \n",
              "0                  None  \n",
              "1                  None  \n",
              "2                  None  \n",
              "3  Spoofing → Tampering  \n",
              "4                  None  "
            ],
            "text/html": [
              "\n",
              "  <div id=\"df-aa200945-4d9a-4a4d-b42d-7779abacd521\" class=\"colab-df-container\">\n",
              "    <div>\n",
              "<style scoped>\n",
              "    .dataframe tbody tr th:only-of-type {\n",
              "        vertical-align: middle;\n",
              "    }\n",
              "\n",
              "    .dataframe tbody tr th {\n",
              "        vertical-align: top;\n",
              "    }\n",
              "\n",
              "    .dataframe thead th {\n",
              "        text-align: right;\n",
              "    }\n",
              "</style>\n",
              "<table border=\"1\" class=\"dataframe\">\n",
              "  <thead>\n",
              "    <tr style=\"text-align: right;\">\n",
              "      <th></th>\n",
              "      <th>UCA 문장</th>\n",
              "      <th>추천 STRIDE 유형</th>\n",
              "      <th>STRIDE 위험도</th>\n",
              "      <th>Confidence</th>\n",
              "      <th>STRIDE 간 연관성</th>\n",
              "    </tr>\n",
              "  </thead>\n",
              "  <tbody>\n",
              "    <tr>\n",
              "      <th>0</th>\n",
              "      <td>운전자가 인증 절차를 우회하고 제어 명령을 변조할 수 있다.</td>\n",
              "      <td>Tampering</td>\n",
              "      <td>Tampering (High)</td>\n",
              "      <td>50%</td>\n",
              "      <td>None</td>\n",
              "    </tr>\n",
              "    <tr>\n",
              "      <th>1</th>\n",
              "      <td>공격자가 시스템 로그를 삭제하고 비밀 데이터를 유출할 수 있다.</td>\n",
              "      <td>Information Disclosure</td>\n",
              "      <td>Information Disclosure (High)</td>\n",
              "      <td>50%</td>\n",
              "      <td>None</td>\n",
              "    </tr>\n",
              "    <tr>\n",
              "      <th>2</th>\n",
              "      <td>공격자는 서비스 요청을 지연시키면서 권한을 상승시킬 수 있다.</td>\n",
              "      <td>Denial of Service</td>\n",
              "      <td>Denial of Service (Medium)</td>\n",
              "      <td>50%</td>\n",
              "      <td>None</td>\n",
              "    </tr>\n",
              "    <tr>\n",
              "      <th>3</th>\n",
              "      <td>공격자가 인증 우회 후 시스템을 변조하고 로그를 삭제한다.</td>\n",
              "      <td>Spoofing, Tampering</td>\n",
              "      <td>Spoofing (Critical), Tampering (High)</td>\n",
              "      <td>60%</td>\n",
              "      <td>Spoofing → Tampering</td>\n",
              "    </tr>\n",
              "    <tr>\n",
              "      <th>4</th>\n",
              "      <td>시스템이 외부로 비밀 정보를 노출하고 서비스 요청을 차단한다.</td>\n",
              "      <td>Information Disclosure, Denial of Service</td>\n",
              "      <td>Information Disclosure (High), Denial of Servi...</td>\n",
              "      <td>60%</td>\n",
              "      <td>None</td>\n",
              "    </tr>\n",
              "  </tbody>\n",
              "</table>\n",
              "</div>\n",
              "    <div class=\"colab-df-buttons\">\n",
              "\n",
              "  <div class=\"colab-df-container\">\n",
              "    <button class=\"colab-df-convert\" onclick=\"convertToInteractive('df-aa200945-4d9a-4a4d-b42d-7779abacd521')\"\n",
              "            title=\"Convert this dataframe to an interactive table.\"\n",
              "            style=\"display:none;\">\n",
              "\n",
              "  <svg xmlns=\"http://www.w3.org/2000/svg\" height=\"24px\" viewBox=\"0 -960 960 960\">\n",
              "    <path d=\"M120-120v-720h720v720H120Zm60-500h600v-160H180v160Zm220 220h160v-160H400v160Zm0 220h160v-160H400v160ZM180-400h160v-160H180v160Zm440 0h160v-160H620v160ZM180-180h160v-160H180v160Zm440 0h160v-160H620v160Z\"/>\n",
              "  </svg>\n",
              "    </button>\n",
              "\n",
              "  <style>\n",
              "    .colab-df-container {\n",
              "      display:flex;\n",
              "      gap: 12px;\n",
              "    }\n",
              "\n",
              "    .colab-df-convert {\n",
              "      background-color: #E8F0FE;\n",
              "      border: none;\n",
              "      border-radius: 50%;\n",
              "      cursor: pointer;\n",
              "      display: none;\n",
              "      fill: #1967D2;\n",
              "      height: 32px;\n",
              "      padding: 0 0 0 0;\n",
              "      width: 32px;\n",
              "    }\n",
              "\n",
              "    .colab-df-convert:hover {\n",
              "      background-color: #E2EBFA;\n",
              "      box-shadow: 0px 1px 2px rgba(60, 64, 67, 0.3), 0px 1px 3px 1px rgba(60, 64, 67, 0.15);\n",
              "      fill: #174EA6;\n",
              "    }\n",
              "\n",
              "    .colab-df-buttons div {\n",
              "      margin-bottom: 4px;\n",
              "    }\n",
              "\n",
              "    [theme=dark] .colab-df-convert {\n",
              "      background-color: #3B4455;\n",
              "      fill: #D2E3FC;\n",
              "    }\n",
              "\n",
              "    [theme=dark] .colab-df-convert:hover {\n",
              "      background-color: #434B5C;\n",
              "      box-shadow: 0px 1px 3px 1px rgba(0, 0, 0, 0.15);\n",
              "      filter: drop-shadow(0px 1px 2px rgba(0, 0, 0, 0.3));\n",
              "      fill: #FFFFFF;\n",
              "    }\n",
              "  </style>\n",
              "\n",
              "    <script>\n",
              "      const buttonEl =\n",
              "        document.querySelector('#df-aa200945-4d9a-4a4d-b42d-7779abacd521 button.colab-df-convert');\n",
              "      buttonEl.style.display =\n",
              "        google.colab.kernel.accessAllowed ? 'block' : 'none';\n",
              "\n",
              "      async function convertToInteractive(key) {\n",
              "        const element = document.querySelector('#df-aa200945-4d9a-4a4d-b42d-7779abacd521');\n",
              "        const dataTable =\n",
              "          await google.colab.kernel.invokeFunction('convertToInteractive',\n",
              "                                                    [key], {});\n",
              "        if (!dataTable) return;\n",
              "\n",
              "        const docLinkHtml = 'Like what you see? Visit the ' +\n",
              "          '<a target=\"_blank\" href=https://colab.research.google.com/notebooks/data_table.ipynb>data table notebook</a>'\n",
              "          + ' to learn more about interactive tables.';\n",
              "        element.innerHTML = '';\n",
              "        dataTable['output_type'] = 'display_data';\n",
              "        await google.colab.output.renderOutput(dataTable, element);\n",
              "        const docLink = document.createElement('div');\n",
              "        docLink.innerHTML = docLinkHtml;\n",
              "        element.appendChild(docLink);\n",
              "      }\n",
              "    </script>\n",
              "  </div>\n",
              "\n",
              "\n",
              "    <div id=\"df-d513d1a2-3b9d-4eb8-9626-a2ba192459ef\">\n",
              "      <button class=\"colab-df-quickchart\" onclick=\"quickchart('df-d513d1a2-3b9d-4eb8-9626-a2ba192459ef')\"\n",
              "                title=\"Suggest charts\"\n",
              "                style=\"display:none;\">\n",
              "\n",
              "<svg xmlns=\"http://www.w3.org/2000/svg\" height=\"24px\"viewBox=\"0 0 24 24\"\n",
              "     width=\"24px\">\n",
              "    <g>\n",
              "        <path d=\"M19 3H5c-1.1 0-2 .9-2 2v14c0 1.1.9 2 2 2h14c1.1 0 2-.9 2-2V5c0-1.1-.9-2-2-2zM9 17H7v-7h2v7zm4 0h-2V7h2v10zm4 0h-2v-4h2v4z\"/>\n",
              "    </g>\n",
              "</svg>\n",
              "      </button>\n",
              "\n",
              "<style>\n",
              "  .colab-df-quickchart {\n",
              "      --bg-color: #E8F0FE;\n",
              "      --fill-color: #1967D2;\n",
              "      --hover-bg-color: #E2EBFA;\n",
              "      --hover-fill-color: #174EA6;\n",
              "      --disabled-fill-color: #AAA;\n",
              "      --disabled-bg-color: #DDD;\n",
              "  }\n",
              "\n",
              "  [theme=dark] .colab-df-quickchart {\n",
              "      --bg-color: #3B4455;\n",
              "      --fill-color: #D2E3FC;\n",
              "      --hover-bg-color: #434B5C;\n",
              "      --hover-fill-color: #FFFFFF;\n",
              "      --disabled-bg-color: #3B4455;\n",
              "      --disabled-fill-color: #666;\n",
              "  }\n",
              "\n",
              "  .colab-df-quickchart {\n",
              "    background-color: var(--bg-color);\n",
              "    border: none;\n",
              "    border-radius: 50%;\n",
              "    cursor: pointer;\n",
              "    display: none;\n",
              "    fill: var(--fill-color);\n",
              "    height: 32px;\n",
              "    padding: 0;\n",
              "    width: 32px;\n",
              "  }\n",
              "\n",
              "  .colab-df-quickchart:hover {\n",
              "    background-color: var(--hover-bg-color);\n",
              "    box-shadow: 0 1px 2px rgba(60, 64, 67, 0.3), 0 1px 3px 1px rgba(60, 64, 67, 0.15);\n",
              "    fill: var(--button-hover-fill-color);\n",
              "  }\n",
              "\n",
              "  .colab-df-quickchart-complete:disabled,\n",
              "  .colab-df-quickchart-complete:disabled:hover {\n",
              "    background-color: var(--disabled-bg-color);\n",
              "    fill: var(--disabled-fill-color);\n",
              "    box-shadow: none;\n",
              "  }\n",
              "\n",
              "  .colab-df-spinner {\n",
              "    border: 2px solid var(--fill-color);\n",
              "    border-color: transparent;\n",
              "    border-bottom-color: var(--fill-color);\n",
              "    animation:\n",
              "      spin 1s steps(1) infinite;\n",
              "  }\n",
              "\n",
              "  @keyframes spin {\n",
              "    0% {\n",
              "      border-color: transparent;\n",
              "      border-bottom-color: var(--fill-color);\n",
              "      border-left-color: var(--fill-color);\n",
              "    }\n",
              "    20% {\n",
              "      border-color: transparent;\n",
              "      border-left-color: var(--fill-color);\n",
              "      border-top-color: var(--fill-color);\n",
              "    }\n",
              "    30% {\n",
              "      border-color: transparent;\n",
              "      border-left-color: var(--fill-color);\n",
              "      border-top-color: var(--fill-color);\n",
              "      border-right-color: var(--fill-color);\n",
              "    }\n",
              "    40% {\n",
              "      border-color: transparent;\n",
              "      border-right-color: var(--fill-color);\n",
              "      border-top-color: var(--fill-color);\n",
              "    }\n",
              "    60% {\n",
              "      border-color: transparent;\n",
              "      border-right-color: var(--fill-color);\n",
              "    }\n",
              "    80% {\n",
              "      border-color: transparent;\n",
              "      border-right-color: var(--fill-color);\n",
              "      border-bottom-color: var(--fill-color);\n",
              "    }\n",
              "    90% {\n",
              "      border-color: transparent;\n",
              "      border-bottom-color: var(--fill-color);\n",
              "    }\n",
              "  }\n",
              "</style>\n",
              "\n",
              "      <script>\n",
              "        async function quickchart(key) {\n",
              "          const quickchartButtonEl =\n",
              "            document.querySelector('#' + key + ' button');\n",
              "          quickchartButtonEl.disabled = true;  // To prevent multiple clicks.\n",
              "          quickchartButtonEl.classList.add('colab-df-spinner');\n",
              "          try {\n",
              "            const charts = await google.colab.kernel.invokeFunction(\n",
              "                'suggestCharts', [key], {});\n",
              "          } catch (error) {\n",
              "            console.error('Error during call to suggestCharts:', error);\n",
              "          }\n",
              "          quickchartButtonEl.classList.remove('colab-df-spinner');\n",
              "          quickchartButtonEl.classList.add('colab-df-quickchart-complete');\n",
              "        }\n",
              "        (() => {\n",
              "          let quickchartButtonEl =\n",
              "            document.querySelector('#df-d513d1a2-3b9d-4eb8-9626-a2ba192459ef button');\n",
              "          quickchartButtonEl.style.display =\n",
              "            google.colab.kernel.accessAllowed ? 'block' : 'none';\n",
              "        })();\n",
              "      </script>\n",
              "    </div>\n",
              "\n",
              "  <div id=\"id_0ac2cbd8-da5b-46cb-a373-ff9bf09e00f5\">\n",
              "    <style>\n",
              "      .colab-df-generate {\n",
              "        background-color: #E8F0FE;\n",
              "        border: none;\n",
              "        border-radius: 50%;\n",
              "        cursor: pointer;\n",
              "        display: none;\n",
              "        fill: #1967D2;\n",
              "        height: 32px;\n",
              "        padding: 0 0 0 0;\n",
              "        width: 32px;\n",
              "      }\n",
              "\n",
              "      .colab-df-generate:hover {\n",
              "        background-color: #E2EBFA;\n",
              "        box-shadow: 0px 1px 2px rgba(60, 64, 67, 0.3), 0px 1px 3px 1px rgba(60, 64, 67, 0.15);\n",
              "        fill: #174EA6;\n",
              "      }\n",
              "\n",
              "      [theme=dark] .colab-df-generate {\n",
              "        background-color: #3B4455;\n",
              "        fill: #D2E3FC;\n",
              "      }\n",
              "\n",
              "      [theme=dark] .colab-df-generate:hover {\n",
              "        background-color: #434B5C;\n",
              "        box-shadow: 0px 1px 3px 1px rgba(0, 0, 0, 0.15);\n",
              "        filter: drop-shadow(0px 1px 2px rgba(0, 0, 0, 0.3));\n",
              "        fill: #FFFFFF;\n",
              "      }\n",
              "    </style>\n",
              "    <button class=\"colab-df-generate\" onclick=\"generateWithVariable('df')\"\n",
              "            title=\"Generate code using this dataframe.\"\n",
              "            style=\"display:none;\">\n",
              "\n",
              "  <svg xmlns=\"http://www.w3.org/2000/svg\" height=\"24px\"viewBox=\"0 0 24 24\"\n",
              "       width=\"24px\">\n",
              "    <path d=\"M7,19H8.4L18.45,9,17,7.55,7,17.6ZM5,21V16.75L18.45,3.32a2,2,0,0,1,2.83,0l1.4,1.43a1.91,1.91,0,0,1,.58,1.4,1.91,1.91,0,0,1-.58,1.4L9.25,21ZM18.45,9,17,7.55Zm-12,3A5.31,5.31,0,0,0,4.9,8.1,5.31,5.31,0,0,0,1,6.5,5.31,5.31,0,0,0,4.9,4.9,5.31,5.31,0,0,0,6.5,1,5.31,5.31,0,0,0,8.1,4.9,5.31,5.31,0,0,0,12,6.5,5.46,5.46,0,0,0,6.5,12Z\"/>\n",
              "  </svg>\n",
              "    </button>\n",
              "    <script>\n",
              "      (() => {\n",
              "      const buttonEl =\n",
              "        document.querySelector('#id_0ac2cbd8-da5b-46cb-a373-ff9bf09e00f5 button.colab-df-generate');\n",
              "      buttonEl.style.display =\n",
              "        google.colab.kernel.accessAllowed ? 'block' : 'none';\n",
              "\n",
              "      buttonEl.onclick = () => {\n",
              "        google.colab.notebook.generateWithVariable('df');\n",
              "      }\n",
              "      })();\n",
              "    </script>\n",
              "  </div>\n",
              "\n",
              "    </div>\n",
              "  </div>\n"
            ],
            "application/vnd.google.colaboratory.intrinsic+json": {
              "type": "dataframe",
              "variable_name": "df",
              "summary": "{\n  \"name\": \"df\",\n  \"rows\": 5,\n  \"fields\": [\n    {\n      \"column\": \"UCA \\ubb38\\uc7a5\",\n      \"properties\": {\n        \"dtype\": \"string\",\n        \"num_unique_values\": 5,\n        \"samples\": [\n          \"\\uacf5\\uaca9\\uc790\\uac00 \\uc2dc\\uc2a4\\ud15c \\ub85c\\uadf8\\ub97c \\uc0ad\\uc81c\\ud558\\uace0 \\ube44\\ubc00 \\ub370\\uc774\\ud130\\ub97c \\uc720\\ucd9c\\ud560 \\uc218 \\uc788\\ub2e4.\",\n          \"\\uc2dc\\uc2a4\\ud15c\\uc774 \\uc678\\ubd80\\ub85c \\ube44\\ubc00 \\uc815\\ubcf4\\ub97c \\ub178\\ucd9c\\ud558\\uace0 \\uc11c\\ube44\\uc2a4 \\uc694\\uccad\\uc744 \\ucc28\\ub2e8\\ud55c\\ub2e4.\",\n          \"\\uacf5\\uaca9\\uc790\\ub294 \\uc11c\\ube44\\uc2a4 \\uc694\\uccad\\uc744 \\uc9c0\\uc5f0\\uc2dc\\ud0a4\\uba74\\uc11c \\uad8c\\ud55c\\uc744 \\uc0c1\\uc2b9\\uc2dc\\ud0ac \\uc218 \\uc788\\ub2e4.\"\n        ],\n        \"semantic_type\": \"\",\n        \"description\": \"\"\n      }\n    },\n    {\n      \"column\": \"\\ucd94\\ucc9c STRIDE \\uc720\\ud615\",\n      \"properties\": {\n        \"dtype\": \"string\",\n        \"num_unique_values\": 5,\n        \"samples\": [\n          \"Information Disclosure\",\n          \"Information Disclosure, Denial of Service\",\n          \"Denial of Service\"\n        ],\n        \"semantic_type\": \"\",\n        \"description\": \"\"\n      }\n    },\n    {\n      \"column\": \"STRIDE \\uc704\\ud5d8\\ub3c4\",\n      \"properties\": {\n        \"dtype\": \"string\",\n        \"num_unique_values\": 5,\n        \"samples\": [\n          \"Information Disclosure (High)\",\n          \"Information Disclosure (High), Denial of Service (Medium)\",\n          \"Denial of Service (Medium)\"\n        ],\n        \"semantic_type\": \"\",\n        \"description\": \"\"\n      }\n    },\n    {\n      \"column\": \"Confidence\",\n      \"properties\": {\n        \"dtype\": \"category\",\n        \"num_unique_values\": 2,\n        \"samples\": [\n          \"60%\",\n          \"50%\"\n        ],\n        \"semantic_type\": \"\",\n        \"description\": \"\"\n      }\n    },\n    {\n      \"column\": \"STRIDE \\uac04 \\uc5f0\\uad00\\uc131\",\n      \"properties\": {\n        \"dtype\": \"category\",\n        \"num_unique_values\": 2,\n        \"samples\": [\n          \"Spoofing \\u2192 Tampering\",\n          \"None\"\n        ],\n        \"semantic_type\": \"\",\n        \"description\": \"\"\n      }\n    }\n  ]\n}"
            }
          },
          "metadata": {}
        }
      ]
    },
    {
      "cell_type": "markdown",
      "source": [
        "## 9. 위험도별 문장수를 막대그래프로 시각화"
      ],
      "metadata": {
        "id": "Lnlt_m9yh5MD"
      },
      "id": "Lnlt_m9yh5MD"
    },
    {
      "cell_type": "code",
      "source": [
        "# 위험도별 문장 수 계산\n",
        "risk_counts = {}\n",
        "for risks in df['STRIDE 위험도']:\n",
        "    for risk in risks.split(\", \"):\n",
        "        level = risk.split(\"(\")[-1].strip(\")\")\n",
        "        risk_counts[level] = risk_counts.get(level, 0) + 1\n",
        "\n",
        "# 색깔 매핑\n",
        "color_map = {\n",
        "    \"Critical\": \"red\",\n",
        "    \"High\": \"orange\",\n",
        "    \"Medium\": \"skyblue\",\n",
        "    \"Low\": \"lightgreen\",\n",
        "    \"Unknown\": \"grey\"\n",
        "}\n",
        "colors = [color_map.get(risk, \"grey\") for risk in risk_counts.keys()]\n",
        "\n",
        "# Matplotlib 기본 폰트로 설정\n",
        "plt.rcParams['font.family'] = 'DejaVu Sans'\n",
        "plt.rcParams['axes.unicode_minus'] = False\n",
        "\n",
        "# 막대그래프 시각화\n",
        "plt.figure(figsize=(5,4))\n",
        "bars = plt.bar(risk_counts.keys(), risk_counts.values(), color=colors)\n",
        "\n",
        "for bar in bars:\n",
        "    yval = bar.get_height()\n",
        "    plt.text(bar.get_x() + bar.get_width()/2, yval + 0.1, int(yval), ha='center', va='bottom', fontsize=10)\n",
        "\n",
        "plt.xlabel('Risk Level')\n",
        "plt.ylabel('Number of Sentences')\n",
        "plt.title('Distribution of Sentences by Risk Level')\n",
        "plt.grid(axis='y', linestyle='--', alpha=0.7)\n",
        "plt.tight_layout()\n",
        "plt.show()"
      ],
      "metadata": {
        "colab": {
          "base_uri": "https://localhost:8080/",
          "height": 407
        },
        "id": "epvc-nS8h8iW",
        "outputId": "dfaec3a5-80c0-466c-efca-4076ef124a1b"
      },
      "id": "epvc-nS8h8iW",
      "execution_count": null,
      "outputs": [
        {
          "output_type": "display_data",
          "data": {
            "text/plain": [
              "<Figure size 500x400 with 1 Axes>"
            ],
            "image/png": "[encoded data removed]"
          },
          "metadata": {}
        }
      ]
    },
    {
      "cell_type": "markdown",
      "source": [
        "## 10. 결과 분석에 대한 통계 정리"
      ],
      "metadata": {
        "id": "gGNJGKDkXiIe"
      },
      "id": "gGNJGKDkXiIe"
    },
    {
      "cell_type": "code",
      "source": [
        "# STRIDE 유형별 발생 빈도 자연어 출력\n",
        "print(\"\\n 1. STRIDE 유형별 발생 빈도\")\n",
        "stride_counts = df['추천 STRIDE 유형'].value_counts()\n",
        "for stride, count in stride_counts.items():\n",
        "    print(f\"- {stride}: {count}건 발생\")\n",
        "\n",
        "# 평균 Confidence 자연어 출력\n",
        "print(\"\\n\\n 2. 평균 Confidence\")\n",
        "confidences = df['Confidence'].apply(lambda x: int(x.strip('%')))\n",
        "avg_confidence = confidences.mean()\n",
        "print(f\"- 전체 문장의 평균 Confidence는 {avg_confidence:.2f}%입니다.\")\n",
        "\n",
        "# Confidence 값에 따라 설명 문구를 다르게 출력\n",
        "if avg_confidence >= 80:\n",
        "    print(\"\\n 이는 STRIDE 매칭 신뢰도가 매우 높은 수준임을 나타냅니다.\")\n",
        "elif avg_confidence >= 60:\n",
        "    print(\"\\n 이는 STRIDE 매칭 신뢰도가 상당히 신뢰할 수 있는 수준임을 나타냅니다.\")\n",
        "elif avg_confidence >= 40:\n",
        "    print(\"\\n 이는 STRIDE 매칭 신뢰도가 적정 수준이나 추가 검토가 필요함을 나타냅니다.\")\n",
        "else:\n",
        "    print(\"\\n 이는 STRIDE 매칭 신뢰도가 낮아 재검토가 필요함을 나타냅니다.\")\n",
        "\n",
        "# 위험도별 문장 수 계산\n",
        "risk_counts = {}\n",
        "for risks in df['STRIDE 위험도']:\n",
        "    for risk in risks.split(\", \"):\n",
        "        level = risk.split(\"(\")[-1].strip(\")\")\n",
        "        risk_counts[level] = risk_counts.get(level, 0) + 1\n",
        "\n",
        "# 위험도별 문장 수 출력\n",
        "print(\"\\n\\n 3. 위험도별 문장 수:\")\n",
        "for level, count in risk_counts.items():\n",
        "    print(f\"- {level} 위험도에 해당하는 문장은 총 {count}건입니다.\")\n",
        "\n",
        "# 가장 많이 발생한 위험도 찾아서 문장 출력\n",
        "max_risk_level = max(risk_counts, key=risk_counts.get)\n",
        "max_risk_count = risk_counts[max_risk_level]\n",
        "\n",
        "print(f\"\\n 특히 {max_risk_level} 위험도 문장이 가장 많아 ({max_risk_count}건) 우선 대응이 필요합니다.\")"
      ],
      "metadata": {
        "colab": {
          "base_uri": "https://localhost:8080/"
        },
        "id": "THeb08rGXmT3",
        "outputId": "24dd70a9-af67-4207-8aa8-836d861cf103"
      },
      "id": "THeb08rGXmT3",
      "execution_count": null,
      "outputs": [
        {
          "output_type": "stream",
          "name": "stdout",
          "text": [
            "\n",
            " 1. STRIDE 유형별 발생 빈도\n",
            "- Tampering: 1건 발생\n",
            "- Information Disclosure: 1건 발생\n",
            "- Denial of Service: 1건 발생\n",
            "- Spoofing, Tampering: 1건 발생\n",
            "- Information Disclosure, Denial of Service: 1건 발생\n",
            "\n",
            "\n",
            " 2. 평균 Confidence\n",
            "- 전체 문장의 평균 Confidence는 54.00%입니다.\n",
            "\n",
            " 이는 STRIDE 매칭 신뢰도가 적정 수준이나 추가 검토가 필요함을 나타냅니다.\n",
            "\n",
            "\n",
            " 3. 위험도별 문장 수:\n",
            "- High 위험도에 해당하는 문장은 총 4건입니다.\n",
            "- Medium 위험도에 해당하는 문장은 총 2건입니다.\n",
            "- Critical 위험도에 해당하는 문장은 총 1건입니다.\n",
            "\n",
            " 특히 High 위험도 문장이 가장 많아 (4건) 우선 대응이 필요합니다.\n"
          ]
        }
      ]
    }
  ],
  "metadata": {
    "colab": {
      "provenance": [],
      "include_colab_link": true
    },
    "language_info": {
      "name": "python"
    },
    "kernelspec": {
      "name": "python3",
      "display_name": "Python 3"
    }
  },
  "nbformat": 4,
  "nbformat_minor": 5
}